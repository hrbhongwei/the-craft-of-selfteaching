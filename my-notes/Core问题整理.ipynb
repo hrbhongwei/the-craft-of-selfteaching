{
 "cells": [
  {
   "cell_type": "markdown",
   "metadata": {},
   "source": [
    "**1 输出中文乱码问题解决            **\n",
    "\n",
    "    app.Run(async (context) =>\n",
    "    {\n",
    "        context.Response.ContentType = \"text/plain; charset=utf-8\";\n",
    "        await context.Response.WriteAsync(\"输出汉字\");\n",
    "    });\n",
    "    \n",
    "**2 **    "
   ]
  },
  {
   "cell_type": "code",
   "execution_count": null,
   "metadata": {},
   "outputs": [],
   "source": []
  }
 ],
 "metadata": {
  "kernelspec": {
   "display_name": "Python 3",
   "language": "python",
   "name": "python3"
  },
  "language_info": {
   "codemirror_mode": {
    "name": "ipython",
    "version": 3
   },
   "file_extension": ".py",
   "mimetype": "text/x-python",
   "name": "python",
   "nbconvert_exporter": "python",
   "pygments_lexer": "ipython3",
   "version": "3.6.5"
  }
 },
 "nbformat": 4,
 "nbformat_minor": 2
}
