{
 "cells": [
  {
   "cell_type": "markdown",
   "metadata": {},
   "source": [
    "**1、克隆仓库**\n",
    "\n",
    "克隆完整的仓库到 \"F:/Work/project\" 目录下\n",
    "\n",
    "git clone url \"F:/Work/project\"\n",
    "\n",
    "只克隆 dev 分支到 \"F:/Work/project\" 目录下\n",
    "\n",
    "git clone -b dev url \"F:/Work/project\"\n",
    "\n",
    "**2、将文件变更记录写入到本地的索引库**\n",
    "\n",
    "添加当前目录下所有文件\n",
    "\n",
    "git add .\n",
    "\n",
    "添加部分文件 \n",
    "\n",
    "git add src/ app/ index.js\n",
    "\n",
    "**3、提交变更到工作区**\n",
    "\n",
    "最普通的提交\n",
    "\n",
    "git commit -m \"feat: support canvas\"\n",
    "\n",
    "修改当前的 commit message\n",
    "\n",
    "git commit --amend\n",
    "\n",
    "重置当前的 commit author 和 message\n",
    "\n",
    "git commit --amend --reset-author "
   ]
  },
  {
   "cell_type": "markdown",
   "metadata": {},
   "source": [
    "**注：克隆地址 url**"
   ]
  }
 ],
 "metadata": {
  "kernelspec": {
   "display_name": "Python 3",
   "language": "python",
   "name": "python3"
  },
  "language_info": {
   "codemirror_mode": {
    "name": "ipython",
    "version": 3
   },
   "file_extension": ".py",
   "mimetype": "text/x-python",
   "name": "python",
   "nbconvert_exporter": "python",
   "pygments_lexer": "ipython3",
   "version": "3.7.1"
  }
 },
 "nbformat": 4,
 "nbformat_minor": 2
}
