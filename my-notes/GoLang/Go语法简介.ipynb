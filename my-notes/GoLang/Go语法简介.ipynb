{
 "cells": [
  {
   "cell_type": "markdown",
   "metadata": {},
   "source": [
    "# 1 包 main包中的main函数是程序的入口\n",
    "\n",
    "包的两种导入方式：    \n",
    "+ 逐个导入\n",
    "        import \"fmt\"    \n",
    "        import \"math\" \n",
    "+ 分组导入\n",
    "        import {  \n",
    "            \"fmt\"\n",
    "            \"math\"    \n",
    "        }        \n",
    "        \n",
    "**官方建议使用分组导入的方式**\n",
    "\n",
    " ### 导出名：\n",
    " 在 Go 中，如果一个名字以大写字母开头，那么它就是已导出的；在导入一个包时，你只能引用其中已导出的名字。任何“未导出”的名字在该包外均无法访问。\n",
    " 例如math 包中的Pi是导出的，pi是未导出的，执行程序时math.pi会报错，而math.Pi可以正常运行\n",
    " \n",
    "# 2 函数（无参数或接受多个参数）\n",
    "\n",
    "    func add(x int, y int) int {\n",
    "        return x + y\n",
    "    }\n",
    "\n",
    "    func main() {\n",
    "        fmt.Println(add(42, 13))\n",
    "    }"
   ]
  },
  {
   "cell_type": "code",
   "execution_count": null,
   "metadata": {},
   "outputs": [],
   "source": []
  }
 ],
 "metadata": {
  "kernelspec": {
   "display_name": "Python 3",
   "language": "python",
   "name": "python3"
  },
  "language_info": {
   "codemirror_mode": {
    "name": "ipython",
    "version": 3
   },
   "file_extension": ".py",
   "mimetype": "text/x-python",
   "name": "python",
   "nbconvert_exporter": "python",
   "pygments_lexer": "ipython3",
   "version": "3.7.1"
  }
 },
 "nbformat": 4,
 "nbformat_minor": 2
}
