{
 "cells": [
  {
   "cell_type": "markdown",
   "metadata": {},
   "source": [
    "**JupyterLab基本配置**\n",
    "\n",
    ">1,修改默认路径：找到jupyter_notebook_config，打开此文件找到#c.NotebookApp.notebook_dir = '' ，将其改为c.NotebookApp.notebook_dir = 'E:\\Jupyter'，去掉#。\n",
    "\n",
    ">2,生成jupyter_notebook_config文件 C:\\Users\\hongw\\.jupyter \n",
    "\n",
    "    jupyter notebook --generate-config\n",
    "    \n",
    "    "
   ]
  },
  {
   "cell_type": "code",
   "execution_count": null,
   "metadata": {},
   "outputs": [],
   "source": []
  }
 ],
 "metadata": {
  "kernelspec": {
   "display_name": "Python 3",
   "language": "python",
   "name": "python3"
  },
  "language_info": {
   "codemirror_mode": {
    "name": "ipython",
    "version": 3
   },
   "file_extension": ".py",
   "mimetype": "text/x-python",
   "name": "python",
   "nbconvert_exporter": "python",
   "pygments_lexer": "ipython3",
   "version": "3.7.1"
  }
 },
 "nbformat": 4,
 "nbformat_minor": 2
}
